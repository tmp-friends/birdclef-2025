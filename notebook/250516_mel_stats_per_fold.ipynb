{
 "cells": [
  {
   "cell_type": "markdown",
   "metadata": {},
   "source": [
    "# fold ごとの音声波形統計量\n",
    "\n",
    "issue: https://github.com/tmp-friends/birdclef-2025/issues/21#issuecomment-2868744857"
   ]
  },
  {
   "cell_type": "markdown",
   "metadata": {},
   "source": [
    "## Setup"
   ]
  },
  {
   "cell_type": "code",
   "execution_count": 1,
   "metadata": {},
   "outputs": [],
   "source": [
    "import os\n",
    "\n",
    "import numpy as np\n",
    "import pandas as pd\n",
    "import seaborn as sns\n",
    "import matplotlib.pyplot as plt\n",
    "from tqdm import tqdm\n",
    "\n",
    "import librosa\n",
    "import librosa.display"
   ]
  },
  {
   "cell_type": "code",
   "execution_count": 2,
   "metadata": {},
   "outputs": [],
   "source": [
    "dir = \"/home/tomoya/kaggle/birdclef-2025/input/birdclef-2025\"\n",
    "\n",
    "submission_df = pd.read_csv(os.path.join(dir, \"sample_submission.csv\"))\n",
    "taxonomy_df = pd.read_csv(os.path.join(dir, \"taxonomy.csv\"))\n",
    "train_df = pd.read_csv(os.path.join(dir, \"train.csv\"))\n",
    "with open(os.path.join(dir, \"recording_location.txt\"), \"r\") as file:\n",
    "    recording_location = file.read()"
   ]
  },
  {
   "cell_type": "code",
   "execution_count": 3,
   "metadata": {},
   "outputs": [],
   "source": [
    "pd.set_option('display.max_columns', None)"
   ]
  },
  {
   "cell_type": "markdown",
   "metadata": {},
   "source": [
    "## Exec"
   ]
  },
  {
   "cell_type": "code",
   "execution_count": 4,
   "metadata": {},
   "outputs": [
    {
     "name": "stdout",
     "output_type": "stream",
     "text": [
      "▶ calculating signal statistics (might take a minute) ...\n",
      "  done.\n",
      "  Fold 0: valid  5713 samps\n",
      "  Fold 1: valid  5713 samps\n",
      "  Fold 2: valid  5713 samps\n",
      "  Fold 3: valid  5713 samps\n",
      "  Fold 4: valid  5712 samps\n",
      "\n",
      "=== Signal-strength statistics per fold ===\n",
      "      count      mean    median       std       q25       q75\n",
      "fold                                                         \n",
      "0      5713  0.083237  0.058225  0.093309  0.024868  0.110467\n",
      "1      5713  0.082139  0.058231  0.084562  0.024688  0.111087\n",
      "2      5713  0.084058  0.058430  0.093563  0.024766  0.111370\n",
      "3      5713  0.083119  0.058297  0.096028  0.024685  0.110580\n",
      "4      5712  0.083198  0.058100  0.090385  0.024606  0.110559\n"
     ]
    },
    {
     "name": "stderr",
     "output_type": "stream",
     "text": [
      "/home/tomoya/kaggle/birdclef-2025/.venv/lib/python3.10/site-packages/sklearn/model_selection/_split.py:700: UserWarning: The least populated class in y has only 1 members, which is less than n_splits=5.\n",
      "  warnings.warn(\n"
     ]
    }
   ],
   "source": [
    "# ========= Fold split with signal-strength balancing ===============\n",
    "\n",
    "import os, glob\n",
    "from pathlib import Path\n",
    "import numpy as np, pandas as pd, librosa\n",
    "from sklearn.model_selection import StratifiedKFold\n",
    "\n",
    "# ------------------------------------------------------------------\n",
    "# 1. メタデータ読込 & ファイルパス列を付与\n",
    "# ------------------------------------------------------------------\n",
    "train_df = pd.read_csv(os.path.join(dir, \"train.csv\"))\n",
    "audio_root = Path(dir) / \"train_audio\"\n",
    "train_df[\"filepath\"] = train_df[\"filename\"].apply(lambda x: str(audio_root / x))\n",
    "\n",
    "# 既に fold 列がある場合は削除して作り直す\n",
    "train_df = train_df.drop(columns=[c for c in [\"fold\"] if c in train_df], errors=\"ignore\")\n",
    "\n",
    "# ------------------------------------------------------------------\n",
    "# 2. 各録音の “信号強度 T” を計算\n",
    "#    T = RMS + VAR + STD + PWR  (1ファイル=1スカラー)\n",
    "# ------------------------------------------------------------------\n",
    "print(\"▶ calculating signal statistics (might take a minute) ...\")\n",
    "T_values = []\n",
    "for fp in train_df[\"filepath\"]:\n",
    "    y, sr = librosa.load(fp, sr=None, mono=True)\n",
    "    rms  = np.sqrt(np.mean(y**2))\n",
    "    var  = np.var(y)\n",
    "    std  = np.std(y)\n",
    "    pwr  = np.mean(y**2)\n",
    "    T_values.append(rms + var + std + pwr)\n",
    "\n",
    "train_df[\"T\"] = T_values\n",
    "print(\"  done.\")\n",
    "\n",
    "# ------------------------------------------------------------------\n",
    "# 3. T を 4 分位でビニングして stratify key を作成\n",
    "# ------------------------------------------------------------------\n",
    "train_df[\"T_bin\"] = pd.qcut(train_df[\"T\"], q=4, labels=False)     # 0-3\n",
    "\n",
    "# primary_label＋T_bin を連結: 例)  \"yehbla2_1\"\n",
    "train_df[\"stratify_key\"] = (\n",
    "    train_df[\"primary_label\"].astype(str) + \"_\" +\n",
    "    train_df[\"T_bin\"].astype(str)\n",
    ")\n",
    "\n",
    "# ------------------------------------------------------------------\n",
    "# 4. StratifiedKFold で fold 付与\n",
    "# ------------------------------------------------------------------\n",
    "n_fold  = 5\n",
    "skf = StratifiedKFold(n_splits=n_fold, shuffle=True, random_state=42)\n",
    "\n",
    "fold_arr = np.full(len(train_df), -1, dtype=int)\n",
    "for fold, (_, valid_idx) in enumerate(skf.split(train_df, train_df[\"stratify_key\"])):\n",
    "    fold_arr[valid_idx] = fold\n",
    "    print(f\"  Fold {fold}: valid {len(valid_idx):5d} samps\")\n",
    "\n",
    "train_df[\"fold\"] = fold_arr\n",
    "\n",
    "# ------------------------------------------------------------------\n",
    "# 5. fold ごとの T 統計量を表示\n",
    "# ------------------------------------------------------------------\n",
    "agg = (\n",
    "    train_df.groupby(\"fold\")[\"T\"]\n",
    "            .agg([\"count\", \"mean\", \"median\", \"std\",\n",
    "                  lambda s: s.quantile(0.25),\n",
    "                  lambda s: s.quantile(0.75)])\n",
    "            .rename(columns={\"<lambda_0>\": \"q25\", \"<lambda_1>\": \"q75\"})\n",
    "            .round(6)\n",
    ")\n",
    "\n",
    "print(\"\\n=== Signal-strength statistics per fold ===\")\n",
    "print(agg)"
   ]
  },
  {
   "cell_type": "markdown",
   "metadata": {},
   "source": [
    "- 層化が成功している\n",
    "    - 以前 1st 解法で問題になった「fold0 だけ静か／うるさい」の偏りは見られない。\n",
    "    - count も ±1 まで揃っており、データ量バランスも◎。\n",
    "\n",
    "- 右裾（noisy 録音）の影響\n",
    "    - mean ≫ median（平均 > 中央） → 分布は 右に長い裾。\n",
    "        ‐ つまり 少数の“とても大きい T” が全体平均を押し上げている。\n",
    "    - ただし裾の割合が各 fold で同じなので CV・LB の比較には公平。\n",
    "\n",
    "- 閾値フィルタの目安\n",
    "    - q75≈0.111、median≈0.058 → T > 0.15 などにカットを置けば 上位 ~10 % の最も noisy 録音 を除外可能。（除外しても fold 間バランスは崩れにくい）"
   ]
  },
  {
   "cell_type": "markdown",
   "metadata": {},
   "source": []
  }
 ],
 "metadata": {
  "kernelspec": {
   "display_name": ".venv",
   "language": "python",
   "name": "python3"
  },
  "language_info": {
   "codemirror_mode": {
    "name": "ipython",
    "version": 3
   },
   "file_extension": ".py",
   "mimetype": "text/x-python",
   "name": "python",
   "nbconvert_exporter": "python",
   "pygments_lexer": "ipython3",
   "version": "3.10.12"
  }
 },
 "nbformat": 4,
 "nbformat_minor": 2
}
